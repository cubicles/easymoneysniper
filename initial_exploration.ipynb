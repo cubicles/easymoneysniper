{
 "cells": [
  {
   "cell_type": "code",
   "execution_count": 1,
   "id": "6aa0acdc-1084-40a1-b9e6-6f8423a26ab3",
   "metadata": {},
   "outputs": [],
   "source": [
    "# Notebook de Exploracion Inicial\n",
    "\n",
    "# Objetivos\n",
    "# - Configurar las librerias base para los algoritmos (DONE)\n",
    "# - Ingestar la data del tipo de cambio LATAM (DONE)\n",
    "# - Settear un ejemplo base KAN para settear entendimiento de dependencias (DONE)\n",
    "# - Definir metricas base\n",
    "# - Montar instancia de MLFlow"
   ]
  },
  {
   "cell_type": "code",
   "execution_count": 2,
   "id": "459f0d81-e55f-4562-9fc4-12ce551a698d",
   "metadata": {},
   "outputs": [],
   "source": [
    "# Algoritmos\n",
    "\n",
    "# 1. KAN\n",
    "# 2. BITCN\n",
    "# 3. SOFTS\n",
    "# 4. NBEATS\n",
    "# 5. NHITS"
   ]
  },
  {
   "cell_type": "code",
   "execution_count": 3,
   "id": "00ef138f-9b56-4806-aa77-9a2092b5cc9f",
   "metadata": {},
   "outputs": [],
   "source": [
    "# Imports\n",
    "\n",
    "import pandas as pd\n",
    "import numpy as np\n",
    "\n",
    "from neuralforecast import NeuralForecast      # Nixtla NeuralForecast\n",
    "from neuralforecast.models import KAN          # KAN\n",
    "from neuralforecast.models import BiTCN        # BiTCN\n",
    "from neuralforecast.models import SOFTS        # SOFTS\n",
    "from neuralforecast.models import NBEATS       # NBEATS\n",
    "from neuralforecast.models import NHITS        # NHITS\n",
    "\n",
    "import matplotlib.pyplot as plt\n",
    "\n",
    "from neuralforecast.losses.pytorch import DistributionLoss\n",
    "from neuralforecast.utils import AirPassengersPanel, AirPassengersStatic"
   ]
  },
  {
   "cell_type": "code",
   "execution_count": 4,
   "id": "1f5a2e0a-fae2-413e-aebe-ca271ee7c583",
   "metadata": {},
   "outputs": [
    {
     "name": "stdout",
     "output_type": "stream",
     "text": [
      "       DATES    PEN     COP    BRL     CLP    MXN\n",
      "0 1994-12-30  2.185  831.20  0.846  402.92  5.075\n",
      "1 1995-01-02  2.188  831.27  0.844  402.92  4.940\n",
      "2 1995-01-03  2.181  833.18  0.845  401.69  5.275\n",
      "3 1995-01-04  2.182  835.38  0.845  403.81  5.575\n",
      "4 1995-01-05  2.186  838.33  0.843  403.27  5.350\n",
      "Dataframe dimensions: (7734, 6)\n"
     ]
    }
   ],
   "source": [
    "# Acquire Data\n",
    "\n",
    "def read_raw_data(path: str):\n",
    "    df = pd.read_excel(path)\n",
    "    return df\n",
    "\n",
    "raw_df = read_raw_data('LATAM_FX.xlsx')\n",
    "print(raw_df.head())\n",
    "print(f'Dataframe dimensions: {raw_df.shape}')"
   ]
  },
  {
   "cell_type": "code",
   "execution_count": 5,
   "id": "7bef89ff-6eb1-4a64-9ff0-e21f3d44c04f",
   "metadata": {},
   "outputs": [
    {
     "name": "stdout",
     "output_type": "stream",
     "text": [
      "1.26.4\n"
     ]
    }
   ],
   "source": [
    "print(np.__version__)"
   ]
  },
  {
   "cell_type": "code",
   "execution_count": 6,
   "id": "c2bc5ba0-a37e-4e5c-87bf-4305bbab80ae",
   "metadata": {},
   "outputs": [
    {
     "name": "stderr",
     "output_type": "stream",
     "text": [
      "Seed set to 1\n",
      "GPU available: False, used: False\n",
      "TPU available: False, using: 0 TPU cores\n",
      "HPU available: False, using: 0 HPUs\n",
      "\n",
      "  | Name         | Type             | Params | Mode \n",
      "----------------------------------------------------------\n",
      "0 | loss         | DistributionLoss | 5      | train\n",
      "1 | padder_train | ConstantPad1d    | 0      | train\n",
      "2 | scaler       | TemporalNorm     | 0      | train\n",
      "3 | layers       | ModuleList       | 435 K  | train\n",
      "----------------------------------------------------------\n",
      "435 K     Trainable params\n",
      "5         Non-trainable params\n",
      "435 K     Total params\n",
      "1.741     Total estimated model params size (MB)\n",
      "8         Modules in train mode\n",
      "0         Modules in eval mode\n"
     ]
    },
    {
     "name": "stdout",
     "output_type": "stream",
     "text": [
      "Epoch 99: 100%|████████████████████████████████████████████████████████████████████████████| 1/1 [00:00<00:00,  5.79it/s, v_num=2, train_loss_step=3.220, train_loss_epoch=3.270]\n",
      "Validation: |                                                                                                                                              | 0/? [00:00<?, ?it/s]\u001b[A\n",
      "Validation:   0%|                                                                                                                                          | 0/1 [00:00<?, ?it/s]\u001b[A\n",
      "Validation DataLoader 0:   0%|                                                                                                                             | 0/1 [00:00<?, ?it/s]\u001b[A\n",
      "Validation DataLoader 0: 100%|████████████████████████████████████████████████████████████████████████████████████████████████████████████████████| 1/1 [00:00<00:00, 225.99it/s]\u001b[A\n",
      "Epoch 99: 100%|████████████████████████████████████████████████████████████████████████████| 1/1 [00:00<00:00,  5.21it/s, v_num=2, train_loss_step=3.220, train_loss_epoch=3.220]\u001b[A"
     ]
    },
    {
     "name": "stderr",
     "output_type": "stream",
     "text": [
      "`Trainer.fit` stopped: `max_steps=100` reached.\n"
     ]
    },
    {
     "name": "stdout",
     "output_type": "stream",
     "text": [
      "Epoch 99: 100%|████████████████████████████████████████████████████████████████████████████| 1/1 [00:00<00:00,  5.11it/s, v_num=2, train_loss_step=3.220, train_loss_epoch=3.220]\n"
     ]
    },
    {
     "name": "stderr",
     "output_type": "stream",
     "text": [
      "/Users/cubicles/easymoneysniper/myenv/lib/python3.12/site-packages/utilsforecast/processing.py:384: FutureWarning: 'M' is deprecated and will be removed in a future version, please use 'ME' instead.\n",
      "  freq = pd.tseries.frequencies.to_offset(freq)\n",
      "/Users/cubicles/easymoneysniper/myenv/lib/python3.12/site-packages/utilsforecast/processing.py:438: FutureWarning: 'M' is deprecated and will be removed in a future version, please use 'ME' instead.\n",
      "  freq = pd.tseries.frequencies.to_offset(freq)\n",
      "GPU available: False, used: False\n",
      "TPU available: False, using: 0 TPU cores\n",
      "HPU available: False, using: 0 HPUs\n"
     ]
    },
    {
     "name": "stdout",
     "output_type": "stream",
     "text": [
      "Predicting DataLoader 0: 100%|████████████████████████████████████████████████████████████████████████████████████████████████████████████████████| 1/1 [00:00<00:00, 125.82it/s]\n"
     ]
    },
    {
     "name": "stderr",
     "output_type": "stream",
     "text": [
      "/Users/cubicles/easymoneysniper/myenv/lib/python3.12/site-packages/neuralforecast/core.py:209: FutureWarning: In a future version the predictions will have the id as a column. You can set the `NIXTLA_ID_AS_COL` environment variable to adopt the new behavior and to suppress this warning.\n",
      "  warnings.warn(\n"
     ]
    }
   ],
   "source": [
    "# Base Example\n",
    "\n",
    "Y_train_df = AirPassengersPanel[AirPassengersPanel.ds<AirPassengersPanel['ds'].values[-12]] # 132 train\n",
    "Y_test_df = AirPassengersPanel[AirPassengersPanel.ds>=AirPassengersPanel['ds'].values[-12]].reset_index(drop=True) # 12 test\n",
    "\n",
    "fcst = NeuralForecast(\n",
    "    models=[\n",
    "            KAN(h=12,\n",
    "                input_size=24,\n",
    "                loss = DistributionLoss(distribution=\"Normal\"),\n",
    "                max_steps=100,\n",
    "                scaler_type='standard',\n",
    "                futr_exog_list=['y_[lag12]'],\n",
    "                hist_exog_list=None,\n",
    "                stat_exog_list=['airline1'],\n",
    "                ),     \n",
    "    ],\n",
    "    freq='M'\n",
    ")\n",
    "\n",
    "fcst.fit(df=Y_train_df, static_df=AirPassengersStatic)\n",
    "forecasts = fcst.predict(futr_df=Y_test_df)"
   ]
  },
  {
   "cell_type": "code",
   "execution_count": 7,
   "id": "cc3be313-b301-4d78-85f1-06b5c0f2cfb5",
   "metadata": {},
   "outputs": [
    {
     "data": {
      "image/png": "[encoded data removed]",
      "text/plain": [
       "<Figure size 640x480 with 1 Axes>"
      ]
     },
     "metadata": {},
     "output_type": "display_data"
    }
   ],
   "source": [
    "# Plot quantile predictions\n",
    "Y_hat_df = forecasts.reset_index(drop=False).drop(columns=['unique_id','ds'])\n",
    "plot_df = pd.concat([Y_test_df, Y_hat_df], axis=1)\n",
    "plot_df = pd.concat([Y_train_df, plot_df])\n",
    "\n",
    "plot_df = plot_df[plot_df.unique_id=='Airline1'].drop('unique_id', axis=1)\n",
    "plt.plot(plot_df['ds'], plot_df['y'], c='black', label='True')\n",
    "plt.plot(plot_df['ds'], plot_df['KAN-median'], c='blue', label='median')\n",
    "plt.fill_between(x=plot_df['ds'][-12:], \n",
    "                 y1=plot_df['KAN-lo-90'][-12:].values,\n",
    "                 y2=plot_df['KAN-hi-90'][-12:].values,\n",
    "                 alpha=0.4, label='level 90')\n",
    "plt.legend()\n",
    "plt.grid()"
   ]
  },
  {
   "cell_type": "code",
   "execution_count": null,
   "id": "02d143d3-1437-47cb-8e7b-0371b5e9675a",
   "metadata": {},
   "outputs": [],
   "source": []
  }
 ],
 "metadata": {
  "kernelspec": {
   "display_name": "Python 3 (ipykernel)",
   "language": "python",
   "name": "python3"
  },
  "language_info": {
   "codemirror_mode": {
    "name": "ipython",
    "version": 3
   },
   "file_extension": ".py",
   "mimetype": "text/x-python",
   "name": "python",
   "nbconvert_exporter": "python",
   "pygments_lexer": "ipython3",
   "version": "3.12.4"
  }
 },
 "nbformat": 4,
 "nbformat_minor": 5
}
